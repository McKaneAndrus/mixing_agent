{
 "cells": [
  {
   "cell_type": "code",
   "execution_count": 1,
   "metadata": {
    "collapsed": false,
    "deletable": true,
    "editable": true
   },
   "outputs": [
    {
     "name": "stdout",
     "output_type": "stream",
     "text": [
      "\n",
      "    Winter is here. You and your friends were tossing around a frisbee at the park\n",
      "    when you made a wild throw that left the frisbee out in the middle of the lake.\n",
      "    The water is mostly frozen, but there are a few holes where the ice has melted.\n",
      "    If you step into one of those holes, you'll fall into the freezing water.\n",
      "    At this time, there's an international frisbee shortage, so it's absolutely imperative that\n",
      "    you navigate across the lake and retrieve the disc.\n",
      "    However, the ice is slippery, so you won't always move in the direction you intend.\n",
      "    The surface is described using a grid like the following\n",
      "\n",
      "        SFFF\n",
      "        FHFH\n",
      "        FFFH\n",
      "        HFFG\n",
      "\n",
      "    S   : starting point, safe\n",
      "    F   : frozen surface, safe\n",
      "    H   : hole, fall to your doom\n",
      "    1|2 : goal for agent 1 or agent 2\n",
      "\n",
      "    The episode ends when you reach the all the goals for a corresponding agent.\n",
      "    You receive a reward of 1 each time you reach a goal, and zero otherwise.\n",
      "\n",
      "    \n"
     ]
    }
   ],
   "source": [
    "from frozen_lake import *\n",
    "env = FrozenLakeEnvSequentialMultigoal(goal=2)\n",
    "print(env.__doc__)"
   ]
  },
  {
   "cell_type": "code",
   "execution_count": 2,
   "metadata": {
    "collapsed": false,
    "deletable": true,
    "editable": true
   },
   "outputs": [],
   "source": [
    "# Some basic imports and setup\n",
    "import numpy as np, numpy.random as nr, gym\n",
    "import scipy.sparse\n",
    "import matplotlib.pyplot as plt\n",
    "import math\n",
    "import pickle\n",
    "from collections import defaultdict\n",
    "%matplotlib inline\n",
    "\n",
    "# Seed RNGs so you get the same printouts as me\n",
    "env.seed(0); from gym.spaces import prng; prng.seed(10)\n",
    "\n",
    "NUM_ITER = 75\n",
    "GAMMA = 0.95"
   ]
  },
  {
   "cell_type": "code",
   "execution_count": 3,
   "metadata": {
    "collapsed": false,
    "deletable": true,
    "editable": true
   },
   "outputs": [],
   "source": [
    "def categorical_sample(prob_n):\n",
    "    \"\"\"\n",
    "    Sample from categorical distribution\n",
    "    Each row specifies class probabilities\n",
    "    \"\"\"\n",
    "    prob_n = np.asarray(prob_n)\n",
    "    csprob_n = np.cumsum(prob_n)\n",
    "    return (csprob_n > np.random.rand()).argmax()\n",
    "\n",
    "class MDP(object):\n",
    "    def __init__(self, env):\n",
    "        P, nS, nA, desc = MDP.env2mdp(env)\n",
    "        self.P = P # state transition and reward probabilities, explained below\n",
    "        self.nS = nS # number of states\n",
    "        self.nA = nA # number of actions\n",
    "        self.desc = desc # 2D array specifying what each grid cell means (used for plotting)\n",
    "        self.env = env\n",
    "        self.T = None\n",
    "\n",
    "    def env2mdp(env):\n",
    "        return {s : {a : [tup[:3] for tup in tups] for (a, tups) in a2d.items()} for (s, a2d) in env.P.items()}, env.nS, env.nA, env.desc\n",
    "    \n",
    "    def get_transition_matrix(self):\n",
    "        \"\"\"Return a matrix with index S,A,S' -> P(S'|S,A)\"\"\"\n",
    "        if self.T is None:\n",
    "            print('generating')\n",
    "#             T = defaultdict(lambda : 0)\n",
    "            T = np.zeros([self.nS, self.nA, self.nS])\n",
    "            for s in range(self.nS):\n",
    "                for a in range(self.nA):\n",
    "                    transitions = self.P[s][a]\n",
    "                    s_a_s = {t[1]:t[0] for t in transitions}\n",
    "                    for s_prime in range(self.nS):\n",
    "                        if s_prime in s_a_s:\n",
    "                            T[s, a, s_prime] = s_a_s[s_prime]\n",
    "            self.T = T\n",
    "        return self.T\n",
    "    \n",
    "    def sample_transition(self, state, action):\n",
    "        sas = self.P[state][action]\n",
    "        sample = categorical_sample([s_prime[0] for s_prime in sas])\n",
    "        return sas[sample][1]\n",
    "        \n",
    "    \n",
    "mdp = MDP(env)"
   ]
  },
  {
   "cell_type": "code",
   "execution_count": 4,
   "metadata": {
    "collapsed": true,
    "deletable": true,
    "editable": true
   },
   "outputs": [],
   "source": [
    "def compute_traj_likelihood(mdp, traj, actions):\n",
    "    \"\"\"\n",
    "    Naive likelihood calculation. Should work ok for simple gridworld with short trajectories\n",
    "    \"\"\"\n",
    "    transitions = [(traj[i], actions[i], traj[i+1]) for i in range(len(traj)-1)]\n",
    "    likelihood = 1.0\n",
    "    for s,a,s_prime in transitions:\n",
    "        t = mdp.P[s][a]\n",
    "        transition_prob = 0.0\n",
    "        for p, nextstate, _ in t:\n",
    "            if nextstate == s_prime:\n",
    "                transition_prob = p\n",
    "        likelihood *= transition_prob\n",
    "    return likelihood\n",
    "\n",
    "def normalize(*args):\n",
    "    assert min(args) >= 0\n",
    "    normalized = []\n",
    "    total = sum(args)\n",
    "    if total == 0:\n",
    "        return args\n",
    "    for arg in args:\n",
    "        normalized.append(arg / total)\n",
    "    return tuple(normalized)"
   ]
  },
  {
   "cell_type": "code",
   "execution_count": 5,
   "metadata": {
    "collapsed": false,
    "deletable": true,
    "editable": true
   },
   "outputs": [],
   "source": [
    "class Belief:\n",
    "    def __init__(self, state_index, total_states, p):\n",
    "        self.state_index = state_index\n",
    "        self.total_states = total_states\n",
    "        self.p = p\n",
    "    \n",
    "    def update_p(self, new_p):\n",
    "        self.p = new_p\n",
    "    \n",
    "    @property\n",
    "    def vector(self):\n",
    "        v = np.zeros(self.total_states * 2)\n",
    "        v[self.state_index * 2] = self.p\n",
    "        v[self.state_index *2 + 1] = 1.0 - self.p\n",
    "        v = v.reshape([-1, 1])\n",
    "        return v\n",
    "    \n",
    "    def __eq__(self, b2):\n",
    "        return b2.p == self.p and b2.state_index == self.state_index\n",
    "    \n",
    "    def __sub__(self, b2):\n",
    "        \"\"\"return L1 distance between belief vectors\"\"\"\n",
    "        if self.state_index == b2.state_index:\n",
    "            return abs(self.p - b2.p) + abs((1-self.p) - (1-b2.p))\n",
    "        else:\n",
    "            return 2.0\n",
    "        \n",
    "def generate_belief_points(initial_belief, mdp1, mdp2, num_points=1e3, max_iters=200):\n",
    "    points = np.array([initial_belief])\n",
    "    mdps = [mdp1, mdp2]\n",
    "    iters = 0\n",
    "    while len(points) < num_points and iters < max_iters:\n",
    "        frontier = np.array([])\n",
    "        for b in points:\n",
    "            mdp = mdps[categorical_sample([b.p, 1.0 - b.p])]\n",
    "            action_points = [0]*mdp.nA\n",
    "            for a in np.random.permutation(range(mdp.nA)):\n",
    "               \n",
    "                new_state = mdp.sample_transition(b.state_index, a)\n",
    "                lik1 = compute_traj_likelihood(mdp1, [b.state_index, new_state], [a])\n",
    "                lik2 = compute_traj_likelihood(mdp2, [b.state_index, new_state], [a])\n",
    "                new_p = normalize(b.p*lik1, (1.0 - b.p)*lik2)[0]\n",
    "                action_points[a] = Belief(new_state, b.total_states, new_p)\n",
    "            \n",
    "            action_points = np.array(action_points)\n",
    "            distances = points.reshape([-1, 1]) - action_points.reshape([1, -1])\n",
    "            min_distances = np.min(distances, axis=0)\n",
    "            \n",
    "            new_point = action_points[np.argmax(min_distances)]\n",
    "            \n",
    "            if new_point not in points:\n",
    "                points = np.append(points, new_point)\n",
    "                \n",
    "        iters += 1\n",
    "#         points = np.append(points, frontier)\n",
    "    return points"
   ]
  },
  {
   "cell_type": "code",
   "execution_count": 8,
   "metadata": {
    "collapsed": false,
    "deletable": true,
    "editable": true
   },
   "outputs": [],
   "source": [
    "def compute_belief_vector(mdp1, mdp2, b, a, obs):\n",
    "    T1 = mdp1.get_transition_matrix()\n",
    "    T2 = mdp2.get_transition_matrix()\n",
    "    \n",
    "    def p_s_a_sprime(sas_list, sprime):\n",
    "        t = {sas[1] : sas[0] for sas in sas_list}\n",
    "        try:\n",
    "            return t[sprime]\n",
    "        except:\n",
    "            return 0.0\n",
    "    \n",
    "    new_b = np.zeros(mdp1.nS * 2)\n",
    "    new_b[obs*2] = T1[b.state_index, a, obs]*b.p\n",
    "    new_b[obs*2+1] = T2[b.state_index, a, obs]*(1 - b.p)\n",
    "    Z = T1[b.state_index, a, obs]*b.p + T2[b.state_index, a, obs]*(1 - b.p)\n",
    "    \n",
    "    return new_b, Z\n",
    "\n",
    "def pbvi(mdp1, mdp2, initial_belief, num_points=100, num_iter=100, gamma=1.0):\n",
    "    belief_points = generate_belief_points(initial_belief, mdp1, mdp2, num_points)\n",
    "    print(\"Number of belief points: {}\".format(len(belief_points)))\n",
    "    support_vectors = set()\n",
    "    T1, T2 = mdp1.get_transition_matrix(), mdp2.get_transition_matrix()\n",
    "    for _ in range(num_iter):\n",
    "        print(_)\n",
    "        \n",
    "        support_vector_matrix = np.zeros([len(support_vectors), mdp1.nS*2])\n",
    "        for i, v in enumerate(support_vectors):\n",
    "            support_vector_matrix[i] = v[0]\n",
    "        \n",
    "        new_support_vectors = set()\n",
    "        \n",
    "        for b in belief_points:\n",
    "            alpha_z_a = np.zeros([mdp1.nS, mdp1.nA, len(b.vector)])\n",
    "            for obs in range(mdp1.nS):\n",
    "                for a in range(mdp1.nA):\n",
    "                    if len(support_vectors) == 0:\n",
    "                        continue\n",
    "                    new_belief_vector, Z = compute_belief_vector(mdp1, mdp2, b, a, obs)\n",
    "                    if Z != 0:\n",
    "#                         support_vector_matrix = np.random.permutation(support_vector_matrix)\n",
    "                        values = support_vector_matrix.dot(new_belief_vector/Z)\n",
    "                        alpha_z_a[obs, a, :] = support_vector_matrix[np.argmax(values)]\n",
    "                    \n",
    "            action_support_vectors = np.zeros([len(b.vector), mdp1.nA]) - 0.02\n",
    "#             for s in range(len(b.vector)):\n",
    "            for s in [b.state_index*2, b.state_index*2+1]:\n",
    "                if b.vector[s] == 0:\n",
    "                    continue\n",
    "                ground_state = math.floor(s/2)\n",
    "                for a in range(mdp1.nA):\n",
    "                    if (s % 2) == 0:\n",
    "                        mdp = mdp1\n",
    "                        reward_sum = sum([s_prime[0]*alpha_z_a[s_prime[1], a, s_prime[1]*2] for s_prime in mdp.P[ground_state][a]])\n",
    "                    else:\n",
    "                        mdp = mdp2\n",
    "                        reward_sum = sum([s_prime[0]*alpha_z_a[s_prime[1], a, s_prime[1]*2 + 1] for s_prime in mdp.P[ground_state][a]])\n",
    "                        \n",
    "                    action_support_vectors[s,a] = sum([s_prime[0]*s_prime[2] for s_prime in mdp.P[ground_state][a]]) + gamma * reward_sum\n",
    "            \n",
    "            values = np.dot(action_support_vectors.T, b.vector)\n",
    "            max_action = np.argmax(values)\n",
    "            new_support_vectors.add((tuple(action_support_vectors.T[max_action]), max_action))\n",
    "#             if _ >= 2 and max_action == 8:\n",
    "#                 print(action_support_vectors.T[max_action])\n",
    "        \n",
    "#         support_vectors = support_vectors.union(new_support_vectors)\n",
    "        if support_vectors == new_support_vectors:\n",
    "            break\n",
    "        support_vectors = new_support_vectors.copy()\n",
    "        print('len', len(support_vectors))\n",
    "#         print('actions', [v[1] for v in support_vectors])\n",
    "            \n",
    "    return support_vectors"
   ]
  },
  {
   "cell_type": "code",
   "execution_count": 9,
   "metadata": {
    "collapsed": false,
    "deletable": true,
    "editable": true,
    "scrolled": true
   },
   "outputs": [
    {
     "name": "stdout",
     "output_type": "stream",
     "text": [
      "Number of belief points: 522\n",
      "generating\n",
      "generating\n",
      "0\n",
      "len 126\n",
      "1\n",
      "len 124\n",
      "2\n",
      "len 130\n",
      "3\n",
      "len 129\n",
      "4\n",
      "len 136\n",
      "5\n",
      "len 149\n",
      "6\n",
      "len 161\n",
      "7\n",
      "len 180\n",
      "8\n",
      "len 197\n",
      "9\n",
      "len 200\n",
      "10\n",
      "len 221\n",
      "11\n",
      "len 224\n",
      "12\n",
      "len 241\n",
      "13\n",
      "len 237\n",
      "14\n",
      "len 262\n",
      "15\n",
      "len 279\n",
      "16\n",
      "len 297\n",
      "17\n",
      "len 307\n",
      "18\n",
      "len 308\n",
      "19\n",
      "len 305\n",
      "20\n",
      "len 304\n",
      "21\n",
      "len 304\n",
      "22\n",
      "len 297\n",
      "23\n",
      "len 296\n",
      "24\n",
      "len 299\n",
      "25\n",
      "len 295\n",
      "26\n",
      "len 298\n",
      "27\n",
      "len 301\n",
      "28\n",
      "len 295\n",
      "29\n",
      "len 295\n",
      "30\n",
      "len 296\n",
      "31\n",
      "len 297\n",
      "32\n",
      "len 297\n",
      "33\n",
      "len 297\n",
      "34\n",
      "len 299\n",
      "35\n",
      "len 302\n",
      "36\n",
      "len 303\n",
      "37\n",
      "len 303\n",
      "38\n",
      "len 303\n",
      "39\n",
      "len 303\n",
      "40\n",
      "len 303\n",
      "41\n",
      "len 303\n",
      "42\n",
      "len 303\n",
      "43\n",
      "len 303\n",
      "44\n",
      "len 303\n",
      "45\n",
      "len 303\n",
      "46\n",
      "len 303\n",
      "47\n",
      "len 303\n",
      "48\n",
      "len 303\n",
      "49\n",
      "len 303\n",
      "50\n",
      "len 303\n",
      "51\n",
      "len 303\n",
      "52\n",
      "len 303\n",
      "53\n",
      "len 303\n",
      "54\n",
      "len 303\n",
      "55\n",
      "len 303\n",
      "56\n",
      "len 303\n",
      "57\n",
      "len 303\n",
      "58\n",
      "len 303\n",
      "59\n",
      "len 303\n",
      "60\n",
      "len 303\n",
      "61\n",
      "len 303\n",
      "62\n",
      "len 303\n",
      "63\n",
      "len 303\n",
      "64\n",
      "len 303\n",
      "65\n",
      "len 303\n",
      "66\n",
      "len 303\n",
      "67\n",
      "len 303\n",
      "68\n",
      "len 303\n",
      "69\n",
      "len 303\n",
      "70\n",
      "len 303\n",
      "71\n",
      "len 303\n",
      "72\n",
      "len 303\n",
      "73\n",
      "len 303\n",
      "74\n",
      "len 303\n",
      "75\n",
      "len 303\n",
      "76\n",
      "len 303\n",
      "77\n",
      "len 303\n",
      "78\n",
      "len 303\n",
      "79\n",
      "len 303\n",
      "80\n",
      "len 303\n",
      "81\n",
      "len 303\n",
      "82\n",
      "len 303\n",
      "83\n",
      "len 303\n",
      "84\n",
      "len 303\n",
      "85\n",
      "len 303\n",
      "86\n",
      "len 303\n",
      "87\n",
      "len 303\n",
      "88\n",
      "len 303\n",
      "89\n",
      "len 303\n",
      "90\n",
      "len 303\n",
      "91\n",
      "len 303\n",
      "92\n",
      "len 303\n",
      "93\n",
      "len 303\n",
      "94\n",
      "len 303\n",
      "95\n",
      "len 303\n",
      "96\n",
      "len 303\n",
      "97\n",
      "len 303\n",
      "98\n",
      "len 303\n",
      "99\n",
      "len 303\n",
      "100\n",
      "len 303\n",
      "101\n",
      "len 303\n",
      "102\n",
      "len 303\n",
      "103\n",
      "len 303\n",
      "104\n",
      "len 303\n",
      "105\n",
      "len 303\n",
      "106\n",
      "len 303\n",
      "107\n",
      "len 303\n",
      "108\n",
      "len 303\n",
      "109\n",
      "len 303\n",
      "110\n",
      "len 303\n",
      "111\n",
      "len 303\n",
      "112\n",
      "len 303\n",
      "113\n",
      "len 303\n",
      "114\n",
      "len 303\n",
      "115\n",
      "len 303\n",
      "116\n",
      "len 303\n",
      "117\n",
      "len 303\n",
      "118\n",
      "len 303\n",
      "119\n",
      "len 303\n",
      "120\n",
      "len 303\n",
      "121\n",
      "len 303\n",
      "122\n",
      "len 303\n",
      "123\n",
      "len 303\n",
      "124\n",
      "len 303\n",
      "125\n",
      "len 303\n",
      "126\n",
      "len 303\n",
      "127\n",
      "len 303\n",
      "128\n",
      "len 303\n",
      "129\n",
      "len 303\n",
      "130\n",
      "len 303\n",
      "131\n",
      "len 303\n",
      "132\n",
      "len 303\n",
      "133\n",
      "len 303\n",
      "134\n",
      "len 303\n",
      "135\n",
      "len 303\n",
      "136\n",
      "len 303\n",
      "137\n",
      "len 303\n",
      "138\n",
      "len 303\n",
      "139\n",
      "len 303\n",
      "140\n",
      "len 303\n",
      "141\n",
      "len 303\n",
      "142\n",
      "len 303\n",
      "143\n",
      "len 303\n",
      "144\n",
      "len 303\n",
      "145\n",
      "len 303\n",
      "146\n",
      "len 303\n",
      "147\n",
      "len 303\n",
      "148\n",
      "len 303\n",
      "149\n",
      "len 303\n",
      "150\n",
      "len 303\n",
      "151\n",
      "len 303\n",
      "152\n",
      "len 303\n",
      "153\n",
      "len 303\n",
      "154\n",
      "len 303\n",
      "155\n",
      "len 303\n",
      "156\n",
      "len 303\n",
      "157\n",
      "len 303\n",
      "158\n",
      "len 303\n",
      "159\n",
      "len 303\n",
      "160\n",
      "len 303\n",
      "161\n",
      "len 303\n",
      "162\n",
      "len 303\n",
      "163\n",
      "len 303\n",
      "164\n",
      "len 303\n",
      "165\n",
      "len 303\n",
      "166\n",
      "len 303\n",
      "167\n",
      "len 303\n",
      "168\n",
      "len 303\n",
      "169\n",
      "len 303\n",
      "170\n",
      "len 303\n",
      "171\n",
      "len 303\n",
      "172\n",
      "len 303\n",
      "173\n",
      "len 303\n",
      "174\n",
      "len 303\n",
      "175\n",
      "len 303\n",
      "176\n",
      "len 303\n",
      "177\n",
      "len 303\n",
      "178\n",
      "len 303\n",
      "179\n",
      "len 303\n",
      "180\n",
      "len 303\n",
      "181\n",
      "len 303\n",
      "182\n",
      "len 303\n",
      "183\n",
      "len 303\n",
      "184\n",
      "len 303\n",
      "185\n",
      "len 303\n",
      "186\n",
      "len 303\n",
      "187\n",
      "len 303\n",
      "188\n",
      "len 303\n",
      "189\n",
      "len 303\n",
      "190\n",
      "len 303\n",
      "191\n",
      "len 303\n",
      "192\n",
      "len 303\n",
      "193\n",
      "len 303\n",
      "194\n",
      "len 303\n",
      "195\n",
      "len 303\n",
      "196\n",
      "len 303\n",
      "197\n",
      "len 303\n",
      "198\n",
      "len 303\n",
      "199\n",
      "len 303\n",
      "200\n",
      "len 303\n",
      "201\n",
      "len 303\n",
      "202\n",
      "len 303\n",
      "203\n",
      "len 303\n",
      "204\n",
      "len 303\n",
      "205\n",
      "len 303\n",
      "206\n",
      "len 303\n",
      "207\n",
      "len 303\n",
      "208\n",
      "len 303\n",
      "209\n",
      "len 303\n",
      "210\n"
     ]
    }
   ],
   "source": [
    "mdp1 = MDP(FrozenLakeEnvSequentialMultigoal(goal=1, is_slippery=False))\n",
    "mdp2 = MDP(FrozenLakeEnvSequentialMultigoal(goal=2, is_slippery=True))\n",
    "initial_belief = Belief(24<<2, mdp1.nS, 0.5)\n",
    "support_vectors = pbvi(mdp1, mdp2, initial_belief, 400, num_iter=500)"
   ]
  },
  {
   "cell_type": "code",
   "execution_count": 10,
   "metadata": {
    "collapsed": true,
    "deletable": true,
    "editable": true
   },
   "outputs": [],
   "source": [
    "pickle.dump(support_vectors, open('support_vectors.pkl', 'wb'))"
   ]
  },
  {
   "cell_type": "code",
   "execution_count": 11,
   "metadata": {
    "collapsed": true,
    "deletable": true,
    "editable": true
   },
   "outputs": [],
   "source": [
    "support_vectors = pickle.load(open('support_vectors.pkl', 'rb'))"
   ]
  },
  {
   "cell_type": "code",
   "execution_count": 14,
   "metadata": {
    "collapsed": false,
    "deletable": true,
    "editable": true
   },
   "outputs": [],
   "source": [
    "def plot_values(V, pi, s):\n",
    "    V = V[:-1]\n",
    "    goals = s % 4\n",
    "    goal_inds = [i for i in range(len(V)) if i % 4 == goals]\n",
    "    V = V[goal_inds]\n",
    "    V -= np.min(V)\n",
    "    V /= max(V) if max(V) > 0 else 1.0\n",
    "#     print(V)\n",
    "    pi = pi[goal_inds]\n",
    "    plt.figure(figsize=(3,3))\n",
    "    plt.imshow(V.reshape(8,8), cmap='gray', interpolation='none', aspect='auto', clim=(0,1))\n",
    "    ax = plt.gca()\n",
    "    ax.set_xticks(np.arange(8)-.5)\n",
    "    ax.set_yticks(np.arange(8)-.5)\n",
    "    ax.set_xticklabels([])\n",
    "    ax.set_yticklabels([])\n",
    "    Y, X = np.mgrid[0:8, 0:8]\n",
    "    a2uv = {0:(-1, 0), 2:(0, -1), 4:(1, 0), 6:(0, 1),\n",
    "            1:(-1, -1), 3:(1, -1), 5:(1, 1), 7:(-1, 1),\n",
    "            8:(0, 0)}\n",
    "    Pi = pi.reshape(8,8)\n",
    "    for y in range(8):\n",
    "        for x in range(8):\n",
    "            a = Pi[y, x]\n",
    "            u, v = a2uv[a]\n",
    "            plt.arrow(x, y,u*.3, -v*.3, color='m', head_width=0.1, head_length=0.1)\n",
    "            if str(env.desc[y,x].item().decode()) in '12':\n",
    "                plt.text(x, y, str(env.desc[y,x].item().decode()),\n",
    "                         color='g', size=12,  verticalalignment='center',\n",
    "                         horizontalalignment='center', fontweight='bold')\n",
    "    \n",
    "    if s != (8 * 8 * 4):\n",
    "        plt.plot((s >> 2)%8, (s >> 2)//8, 'ro')\n",
    "    plt.grid(color='b', lw=2, ls='-')\n",
    "    plt.show()\n",
    "\n",
    "def support_vectors_to_values(support_vectors, belief, nS, current_s):\n",
    "    support_vectors = list(support_vectors)\n",
    "    V = np.zeros(nS)\n",
    "    pi = np.zeros(nS)\n",
    "    for s in range(nS):\n",
    "        b = Belief(s, belief.total_states, belief.p)\n",
    "        vectors = [v[0] for v in support_vectors]\n",
    "        values = [np.array(alpha).dot(b.vector) for alpha in vectors]\n",
    "#         if s == (24 << 2) + 3:\n",
    "#             print(values)\n",
    "        V[s] = max(values)\n",
    "        pi[s] = support_vectors[np.argmax(values)][1]\n",
    "#     active_indices = list(filter(lambda x: x % 16 == current_s % 16, range(nS)))\n",
    "#     V = V[active_indices]\n",
    "#     pi = pi[active_indices]\n",
    "    return V, pi\n",
    "    \n",
    "    \n",
    "def run_mixing_agent(true_mdp, mdp1, mdp2, support_vectors, w1, vis=plot_values):\n",
    "    true_mdp.env.reset()\n",
    "    s1 = mdp1.env.reset()\n",
    "    s2 = mdp2.env.reset()\n",
    "    assert s1 == s2, \"mdp state spaces must be the same\"\n",
    "    s, done = s1, False\n",
    "    \n",
    "    Vs = []\n",
    "    pi = np.zeros(mdp1.nS)\n",
    "    \n",
    "#     w1, w2 = normalize(p1, p2)\n",
    "    traj, actions = [s,], []\n",
    "#     V1, V2 = compute_values(mdp1, mdp2, GAMMA, NUM_ITER)\n",
    "    belief = Belief(s, true_mdp.nS, w1)\n",
    "\n",
    "    while not done:\n",
    "        print(\"acting\")\n",
    "        V, pi = support_vectors_to_values(support_vectors, belief, true_mdp.nS, s)\n",
    "        if vis:\n",
    "            vis(V, pi, s)\n",
    "            print(belief.p)\n",
    "        action = pi[s]\n",
    "        s, r, done, _ = true_mdp.env.step(action)\n",
    "        traj.append(s)\n",
    "        actions.append(action)\n",
    "        l1, l2 = compute_traj_likelihood(mdp1, traj, actions), compute_traj_likelihood(mdp2, traj, actions)\n",
    "        p1, p2 = normalize(w1*l1, (1-w1)*l2)\n",
    "        belief = Belief(s, true_mdp.nS, p1)\n",
    "    if vis:\n",
    "        vis(V, pi, s)\n",
    "    return traj\n"
   ]
  },
  {
   "cell_type": "code",
   "execution_count": null,
   "metadata": {
    "collapsed": false,
    "deletable": true,
    "editable": true,
    "scrolled": true
   },
   "outputs": [
    {
     "name": "stdout",
     "output_type": "stream",
     "text": [
      "acting\n"
     ]
    },
    {
     "data": {
      "image/png": "[encoded data removed]",
      "text/plain": [
       "<matplotlib.figure.Figure at 0x104d01ef0>"
      ]
     },
     "metadata": {},
     "output_type": "display_data"
    },
    {
     "name": "stdout",
     "output_type": "stream",
     "text": [
      "0.5\n",
      "acting\n"
     ]
    },
    {
     "data": {
      "image/png": "[encoded data removed]",
      "text/plain": [
       "<matplotlib.figure.Figure at 0x104d01f60>"
      ]
     },
     "metadata": {},
     "output_type": "display_data"
    },
    {
     "name": "stdout",
     "output_type": "stream",
     "text": [
      "0.5555555555555556\n",
      "acting\n"
     ]
    },
    {
     "data": {
      "image/png": "[encoded data removed]",
      "text/plain": [
       "<matplotlib.figure.Figure at 0x10afae320>"
      ]
     },
     "metadata": {},
     "output_type": "display_data"
    },
    {
     "name": "stdout",
     "output_type": "stream",
     "text": [
      "0.6097560975609756\n",
      "acting\n"
     ]
    },
    {
     "data": {
      "image/png": "[encoded data removed]",
      "text/plain": [
       "<matplotlib.figure.Figure at 0x1086509b0>"
      ]
     },
     "metadata": {},
     "output_type": "display_data"
    },
    {
     "name": "stdout",
     "output_type": "stream",
     "text": [
      "0.6613756613756614\n",
      "acting\n"
     ]
    },
    {
     "data": {
      "image/png": "[encoded data removed]",
      "text/plain": [
       "<matplotlib.figure.Figure at 0x10b8ecb00>"
      ]
     },
     "metadata": {},
     "output_type": "display_data"
    },
    {
     "name": "stdout",
     "output_type": "stream",
     "text": [
      "0.7094211123723041\n",
      "acting\n"
     ]
    },
    {
     "data": {
      "image/png": "[encoded data removed]",
      "text/plain": [
       "<matplotlib.figure.Figure at 0x10aefe128>"
      ]
     },
     "metadata": {},
     "output_type": "display_data"
    },
    {
     "name": "stdout",
     "output_type": "stream",
     "text": [
      "0.7531935406121956\n",
      "acting\n"
     ]
    },
    {
     "data": {
      "image/png": "[encoded data removed]",
      "text/plain": [
       "<matplotlib.figure.Figure at 0x108761048>"
      ]
     },
     "metadata": {},
     "output_type": "display_data"
    },
    {
     "name": "stdout",
     "output_type": "stream",
     "text": [
      "0.7923026215709141\n",
      "acting\n"
     ]
    },
    {
     "data": {
      "image/png": "[encoded data removed]",
      "text/plain": [
       "<matplotlib.figure.Figure at 0x10af0fa90>"
      ]
     },
     "metadata": {},
     "output_type": "display_data"
    },
    {
     "name": "stdout",
     "output_type": "stream",
     "text": [
      "0.8266408490196699\n",
      "acting\n"
     ]
    },
    {
     "data": {
      "image/png": "[encoded data removed]",
      "text/plain": [
       "<matplotlib.figure.Figure at 0x10b53cbe0>"
      ]
     },
     "metadata": {},
     "output_type": "display_data"
    },
    {
     "name": "stdout",
     "output_type": "stream",
     "text": [
      "0.8563314268427155\n",
      "acting\n"
     ]
    },
    {
     "data": {
      "image/png": "[encoded data removed]",
      "text/plain": [
       "<matplotlib.figure.Figure at 0x108e32fd0>"
      ]
     },
     "metadata": {},
     "output_type": "display_data"
    },
    {
     "name": "stdout",
     "output_type": "stream",
     "text": [
      "0.8816649354999324\n",
      "acting\n"
     ]
    },
    {
     "data": {
      "image/png": "[encoded data removed]",
      "text/plain": [
       "<matplotlib.figure.Figure at 0x10b6fa128>"
      ]
     },
     "metadata": {},
     "output_type": "display_data"
    },
    {
     "name": "stdout",
     "output_type": "stream",
     "text": [
      "0.9030371268298045\n",
      "acting\n"
     ]
    },
    {
     "data": {
      "image/png": "[encoded data removed]",
      "text/plain": [
       "<matplotlib.figure.Figure at 0x10b6fae10>"
      ]
     },
     "metadata": {},
     "output_type": "display_data"
    },
    {
     "name": "stdout",
     "output_type": "stream",
     "text": [
      "0.9208956647384071\n",
      "acting\n"
     ]
    },
    {
     "data": {
      "image/png": "[encoded data removed]",
      "text/plain": [
       "<matplotlib.figure.Figure at 0x10ab91d30>"
      ]
     },
     "metadata": {},
     "output_type": "display_data"
    },
    {
     "name": "stdout",
     "output_type": "stream",
     "text": [
      "0.9356992379835\n",
      "acting\n"
     ]
    }
   ],
   "source": [
    "mdp1 = MDP(FrozenLakeEnvSequentialMultigoal(goal=1, is_slippery=False))\n",
    "mdp2 = MDP(FrozenLakeEnvSequentialMultigoal(goal=2, is_slippery=True))\n",
    "true_mdp = MDP(FrozenLakeEnvSequentialMultigoal(goal=1, is_slippery=False))\n",
    "\n",
    "traj = run_mixing_agent(true_mdp, mdp1, mdp2, support_vectors, w1=0.5)"
   ]
  },
  {
   "cell_type": "code",
   "execution_count": null,
   "metadata": {
    "collapsed": false,
    "deletable": true,
    "editable": true
   },
   "outputs": [],
   "source": [
    "V, pi = support_vectors_to_values(support_vectors, Belief(64 << 2 + 3, mdp1.nS, 0.5), mdp1.nS, None)"
   ]
  },
  {
   "cell_type": "code",
   "execution_count": null,
   "metadata": {
    "collapsed": false,
    "deletable": true,
    "editable": true
   },
   "outputs": [],
   "source": [
    "V"
   ]
  },
  {
   "cell_type": "code",
   "execution_count": null,
   "metadata": {
    "collapsed": false,
    "deletable": true,
    "editable": true
   },
   "outputs": [],
   "source": [
    "pi"
   ]
  },
  {
   "cell_type": "code",
   "execution_count": null,
   "metadata": {
    "collapsed": false,
    "deletable": true,
    "editable": true
   },
   "outputs": [],
   "source": [
    "0.85590749"
   ]
  },
  {
   "cell_type": "code",
   "execution_count": null,
   "metadata": {
    "collapsed": false,
    "deletable": true,
    "editable": true
   },
   "outputs": [],
   "source": [
    "[v[0] for v in support_vectors if v[1] == 8][0]"
   ]
  },
  {
   "cell_type": "code",
   "execution_count": null,
   "metadata": {
    "collapsed": true,
    "deletable": true,
    "editable": true
   },
   "outputs": [],
   "source": []
  }
 ],
 "metadata": {
  "kernelspec": {
   "display_name": "Python 3",
   "language": "python",
   "name": "python3"
  },
  "language_info": {
   "codemirror_mode": {
    "name": "ipython",
    "version": 3
   },
   "file_extension": ".py",
   "mimetype": "text/x-python",
   "name": "python",
   "nbconvert_exporter": "python",
   "pygments_lexer": "ipython3",
   "version": "3.6.0"
  }
 },
 "nbformat": 4,
 "nbformat_minor": 2
}
